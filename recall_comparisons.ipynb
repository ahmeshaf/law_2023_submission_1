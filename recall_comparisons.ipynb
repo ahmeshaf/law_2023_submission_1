{
 "cells": [
  {
   "cell_type": "code",
   "execution_count": 2,
   "id": "e0ba7ef1",
   "metadata": {},
   "outputs": [],
   "source": [
    "import matplotlib as mpl\n",
    "# mpl.use('pgf')\n",
    "from matplotlib import pyplot as plt\n",
    "# pgf_with_latex = {\n",
    "#         'text.usetex': False,\n",
    "#         'pgf.rcfonts': False,\n",
    "#         \"pgf.preamble\": [\n",
    "#                 r\"\\usepackage{siunitx}\"\n",
    "#                 ]\n",
    "# }\n",
    "# mpl.rcParams.update(pgf_with_latex)"
   ]
  },
  {
   "cell_type": "code",
   "execution_count": 277,
   "id": "4c0e486a",
   "metadata": {},
   "outputs": [],
   "source": [
    "def set_size(width, fraction=1, subplots=(1, 1)):\n",
    "    \"\"\"Set figure dimensions to avoid scaling in LaTeX.\n",
    "\n",
    "    Parameters\n",
    "    ----------\n",
    "    width: float or string\n",
    "            Document width in points, or string of predined document type\n",
    "    fraction: float, optional\n",
    "            Fraction of the width which you wish the figure to occupy\n",
    "    subplots: array-like, optional\n",
    "            The number of rows and columns of subplots.\n",
    "    Returns\n",
    "    -------\n",
    "    fig_dim: tuple\n",
    "            Dimensions of figure in inches\n",
    "    \"\"\"\n",
    "    if width == 'thesis':\n",
    "        width_pt = 426.79135\n",
    "    elif width == 'beamer':\n",
    "        width_pt = 307.28987\n",
    "    else:\n",
    "        width_pt = width\n",
    "\n",
    "    # Width of figure (in pts)\n",
    "    fig_width_pt = width_pt * fraction\n",
    "    # Convert from pt to inches\n",
    "    inches_per_pt = 1 / 72.27\n",
    "\n",
    "    # Golden ratio to set aesthetic figure height\n",
    "    # https://disq.us/p/2940ij3\n",
    "    golden_ratio = (5**.5 - 1) / 2\n",
    "\n",
    "    # Figure width in inches\n",
    "    fig_width_in = fig_width_pt * inches_per_pt\n",
    "    # Figure height in inches\n",
    "    fig_height_in = fig_width_in * golden_ratio * (subplots[0] / subplots[1])\n",
    "#     print(fig_height_in)\n",
    "    return (fig_width_in, fig_height_in+0.7)"
   ]
  },
  {
   "cell_type": "code",
   "execution_count": 38,
   "id": "2039ef31",
   "metadata": {},
   "outputs": [
    {
     "data": {
      "text/plain": [
       "3.1496064065310643"
      ]
     },
     "execution_count": 38,
     "metadata": {},
     "output_type": "execute_result"
    }
   ],
   "source": [
    "(455.24411/72.27 )/2"
   ]
  },
  {
   "cell_type": "code",
   "execution_count": 268,
   "id": "46a52b5d",
   "metadata": {},
   "outputs": [],
   "source": [
    "width = 455.24411"
   ]
  },
  {
   "cell_type": "code",
   "execution_count": 132,
   "id": "415d941a",
   "metadata": {},
   "outputs": [],
   "source": [
    "from simulation import run_annotation_simulation_lemma, run_annotation_simulation_bert_score, run_annotation_simulation_ce"
   ]
  },
  {
   "cell_type": "code",
   "execution_count": 4,
   "id": "ad4e2f33",
   "metadata": {},
   "outputs": [
    {
     "name": "stdout",
     "output_type": "stream",
     "text": [
      "The autoreload extension is already loaded. To reload it, use:\n",
      "  %reload_ext autoreload\n"
     ]
    }
   ],
   "source": [
    "%load_ext autoreload\n",
    "%autoreload 2"
   ]
  },
  {
   "cell_type": "code",
   "execution_count": 7,
   "id": "fb6a566b",
   "metadata": {},
   "outputs": [],
   "source": [
    "split = 'test'\n",
    "dataset = 'ecb'"
   ]
  },
  {
   "cell_type": "code",
   "execution_count": 199,
   "id": "6b14fa89",
   "metadata": {},
   "outputs": [],
   "source": [
    "ns=[i/2 for i in range(2,40)]"
   ]
  },
  {
   "cell_type": "code",
   "execution_count": 188,
   "id": "f3ad0843",
   "metadata": {},
   "outputs": [
    {
     "name": "stdout",
     "output_type": "stream",
     "text": [
      "Total mention pairs in the Test set: 93878\n"
     ]
    },
    {
     "name": "stderr",
     "output_type": "stream",
     "text": [
      "Generating Similarities: 100%|███████████████████████████████████████████████████████████████████████████████████████████████████████████████████████████████████████████████████████| 93878/93878 [00:00<00:00, 236144.84it/s]\n"
     ]
    }
   ],
   "source": [
    "ecb_results_manual = run_annotation_simulation_lemma('ecb', split, ns=ns, my_lam=0.5, no_sort=True)"
   ]
  },
  {
   "cell_type": "code",
   "execution_count": 190,
   "id": "c5681275",
   "metadata": {},
   "outputs": [
    {
     "name": "stdout",
     "output_type": "stream",
     "text": [
      "Total mention pairs in the Test set: 93878\n"
     ]
    },
    {
     "name": "stderr",
     "output_type": "stream",
     "text": [
      "Generating Similarities: 100%|███████████████████████████████████████████████████████████████████████████████████████████████████████████████████████████████████████████████████████| 93878/93878 [00:00<00:00, 272047.52it/s]\n"
     ]
    }
   ],
   "source": [
    "ecb_results_lemma = run_annotation_simulation_lemma('ecb', split, ns=ns, my_lam=0.7, no_sort=False)"
   ]
  },
  {
   "cell_type": "code",
   "execution_count": 192,
   "id": "30e51898",
   "metadata": {},
   "outputs": [
    {
     "name": "stdout",
     "output_type": "stream",
     "text": [
      "Total mention pairs in the Test set: 93878\n",
      "calculating scores...\n",
      "computing bert embedding.\n"
     ]
    },
    {
     "data": {
      "application/vnd.jupyter.widget-view+json": {
       "model_id": "5b889bbb7ae346a7b051d757f558b1c5",
       "version_major": 2,
       "version_minor": 0
      },
      "text/plain": [
       "  0%|          | 0/27 [00:00<?, ?it/s]"
      ]
     },
     "metadata": {},
     "output_type": "display_data"
    },
    {
     "name": "stdout",
     "output_type": "stream",
     "text": [
      "computing greedy matching.\n"
     ]
    },
    {
     "data": {
      "application/vnd.jupyter.widget-view+json": {
       "model_id": "4a3f6f2cb4044e56b97050f17a20695b",
       "version_major": 2,
       "version_minor": 0
      },
      "text/plain": [
       "  0%|          | 0/1467 [00:00<?, ?it/s]"
      ]
     },
     "metadata": {},
     "output_type": "display_data"
    },
    {
     "name": "stdout",
     "output_type": "stream",
     "text": [
      "done in 7259958.59 seconds, 0.01 sentences/sec\n",
      "calculating scores...\n",
      "computing bert embedding.\n"
     ]
    },
    {
     "data": {
      "application/vnd.jupyter.widget-view+json": {
       "model_id": "4e18b9a6ae784086a07a337f6e05ca2f",
       "version_major": 2,
       "version_minor": 0
      },
      "text/plain": [
       "  0%|          | 0/12 [00:00<?, ?it/s]"
      ]
     },
     "metadata": {},
     "output_type": "display_data"
    },
    {
     "name": "stdout",
     "output_type": "stream",
     "text": [
      "computing greedy matching.\n"
     ]
    },
    {
     "data": {
      "application/vnd.jupyter.widget-view+json": {
       "model_id": "5001230bc69e4d83be2e52914fed2c58",
       "version_major": 2,
       "version_minor": 0
      },
      "text/plain": [
       "  0%|          | 0/1467 [00:00<?, ?it/s]"
      ]
     },
     "metadata": {},
     "output_type": "display_data"
    },
    {
     "name": "stdout",
     "output_type": "stream",
     "text": [
      "done in 7259966.22 seconds, 0.01 sentences/sec\n"
     ]
    }
   ],
   "source": [
    "ecb_results_bs =  run_annotation_simulation_bert_score('ecb', split, ns=ns)"
   ]
  },
  {
   "cell_type": "code",
   "execution_count": 193,
   "id": "859f339b",
   "metadata": {},
   "outputs": [],
   "source": [
    "pairs_pk = './cdlm/test_lh_oracle_allmentionpairs_ecb.pkl'\n",
    "scores_ab_pk = './cdlm/test_lh_oracle_cdlm_scores_ab_ecb.pkl'\n",
    "ecb_results_ce = run_annotation_simulation_ce('ecb', split, pairs_pk,scores_ab_pk, ns=ns, threshold=-1 )"
   ]
  },
  {
   "cell_type": "code",
   "execution_count": 198,
   "id": "ffadf899",
   "metadata": {},
   "outputs": [],
   "source": [
    "ns_gvc = [i/2 for i in range(2, 30)]"
   ]
  },
  {
   "cell_type": "code",
   "execution_count": 195,
   "id": "38cc410b",
   "metadata": {},
   "outputs": [],
   "source": [
    "pairs_pk_gvc = './cdlm/test_lh_oracle_allmentionpairs_gvc.pkl'\n",
    "scores_ab_pk_gvc = './cdlm/test_lh_oracle_cdlm_scores_ab_gvc.pkl'\n",
    "gvc_results_ce = run_annotation_simulation_ce('gvc', split, pairs_pk_gvc,scores_ab_pk_gvc, ns=ns_gvc,  threshold=-1 )"
   ]
  },
  {
   "cell_type": "code",
   "execution_count": 196,
   "id": "54b11a5d",
   "metadata": {},
   "outputs": [
    {
     "name": "stdout",
     "output_type": "stream",
     "text": [
      "Total mention pairs in the Test set: 18961\n"
     ]
    },
    {
     "name": "stderr",
     "output_type": "stream",
     "text": [
      "Generating Similarities: 100%|███████████████████████████████████████████████████████████████████████████████████████████████████████████████████████████████████████████████████████| 18961/18961 [00:00<00:00, 223275.91it/s]\n"
     ]
    },
    {
     "name": "stdout",
     "output_type": "stream",
     "text": [
      "Total mention pairs in the Test set: 18961\n"
     ]
    },
    {
     "name": "stderr",
     "output_type": "stream",
     "text": [
      "Generating Similarities: 100%|███████████████████████████████████████████████████████████████████████████████████████████████████████████████████████████████████████████████████████| 18961/18961 [00:00<00:00, 230015.82it/s]\n"
     ]
    },
    {
     "name": "stdout",
     "output_type": "stream",
     "text": [
      "Total mention pairs in the Test set: 18961\n",
      "calculating scores...\n",
      "computing bert embedding.\n"
     ]
    },
    {
     "data": {
      "application/vnd.jupyter.widget-view+json": {
       "model_id": "e7f49da4964c42c381c4757f33243aa6",
       "version_major": 2,
       "version_minor": 0
      },
      "text/plain": [
       "  0%|          | 0/15 [00:00<?, ?it/s]"
      ]
     },
     "metadata": {},
     "output_type": "display_data"
    },
    {
     "name": "stdout",
     "output_type": "stream",
     "text": [
      "computing greedy matching.\n"
     ]
    },
    {
     "data": {
      "application/vnd.jupyter.widget-view+json": {
       "model_id": "ee6406ad675f4dd180e0874c9acf7f16",
       "version_major": 2,
       "version_minor": 0
      },
      "text/plain": [
       "  0%|          | 0/297 [00:00<?, ?it/s]"
      ]
     },
     "metadata": {},
     "output_type": "display_data"
    },
    {
     "name": "stdout",
     "output_type": "stream",
     "text": [
      "done in 7334920.42 seconds, 0.00 sentences/sec\n",
      "calculating scores...\n",
      "computing bert embedding.\n"
     ]
    },
    {
     "data": {
      "application/vnd.jupyter.widget-view+json": {
       "model_id": "c64461f819d7463ea61723e4c03683f4",
       "version_major": 2,
       "version_minor": 0
      },
      "text/plain": [
       "  0%|          | 0/3 [00:00<?, ?it/s]"
      ]
     },
     "metadata": {},
     "output_type": "display_data"
    },
    {
     "name": "stdout",
     "output_type": "stream",
     "text": [
      "computing greedy matching.\n"
     ]
    },
    {
     "data": {
      "application/vnd.jupyter.widget-view+json": {
       "model_id": "d4cbf1fff3a941ef8470766bbe22e8d1",
       "version_major": 2,
       "version_minor": 0
      },
      "text/plain": [
       "  0%|          | 0/297 [00:00<?, ?it/s]"
      ]
     },
     "metadata": {},
     "output_type": "display_data"
    },
    {
     "name": "stdout",
     "output_type": "stream",
     "text": [
      "done in 7334921.80 seconds, 0.00 sentences/sec\n"
     ]
    }
   ],
   "source": [
    "gvc_results_manual = run_annotation_simulation_lemma('gvc', split, my_lam=0.1,ns=ns_gvc, no_sort=True)\n",
    "gvc_results_lemma = run_annotation_simulation_lemma('gvc', split, my_lam=0.7,ns=ns_gvc, no_sort=False)\n",
    "gvc_results_bs = run_annotation_simulation_bert_score('gvc', split, ns=ns_gvc)"
   ]
  },
  {
   "cell_type": "code",
   "execution_count": 284,
   "id": "26f55e2b",
   "metadata": {},
   "outputs": [
    {
     "name": "stderr",
     "output_type": "stream",
     "text": [
      "Ignoring unknown font: Times New Roman\n",
      "Ignoring unknown font: Times New Roman\n",
      "Ignoring unknown font: Times New Roman\n",
      "Ignoring unknown font: Times New Roman\n",
      "Ignoring unknown font: Times New Roman\n",
      "Ignoring unknown font: Times New Roman\n",
      "Ignoring unknown font: Times New Roman\n",
      "Ignoring unknown font: Times New Roman\n",
      "Ignoring unknown font: Times New Roman\n",
      "Ignoring unknown font: Times New Roman\n",
      "Ignoring unknown font: Times New Roman\n",
      "Ignoring unknown font: Times New Roman\n",
      "Ignoring unknown font: Times New Roman\n",
      "Ignoring unknown font: Times New Roman\n",
      "Ignoring unknown font: Times New Roman\n",
      "Ignoring unknown font: Times New Roman\n",
      "Ignoring unknown font: Times New Roman\n",
      "Ignoring unknown font: Times New Roman\n",
      "Ignoring unknown font: Times New Roman\n",
      "Ignoring unknown font: Times New Roman\n",
      "Ignoring unknown font: Times New Roman\n",
      "Ignoring unknown font: Times New Roman\n",
      "Ignoring unknown font: Times New Roman\n",
      "Ignoring unknown font: Times New Roman\n",
      "Ignoring unknown font: Times New Roman\n",
      "Ignoring unknown font: Times New Roman\n",
      "Ignoring unknown font: Times New Roman\n",
      "Ignoring unknown font: Times New Roman\n",
      "Ignoring unknown font: Times New Roman\n",
      "Ignoring unknown font: Times New Roman\n",
      "Ignoring unknown font: Times New Roman\n",
      "Ignoring unknown font: Times New Roman\n",
      "Ignoring unknown font: Times New Roman\n",
      "Ignoring unknown font: Times New Roman\n",
      "Ignoring unknown font: Times New Roman\n",
      "Ignoring unknown font: Times New Roman\n",
      "Ignoring unknown font: Times New Roman\n",
      "Ignoring unknown font: Times New Roman\n",
      "Ignoring unknown font: Times New Roman\n",
      "Ignoring unknown font: Times New Roman\n",
      "Ignoring unknown font: Times New Roman\n",
      "Ignoring unknown font: Times New Roman\n",
      "Ignoring unknown font: Times New Roman\n",
      "Ignoring unknown font: Times New Roman\n",
      "Ignoring unknown font: Times New Roman\n",
      "Ignoring unknown font: Times New Roman\n",
      "Ignoring unknown font: Times New Roman\n",
      "Ignoring unknown font: Times New Roman\n",
      "Ignoring unknown font: Times New Roman\n",
      "Ignoring unknown font: Times New Roman\n",
      "Ignoring unknown font: Times New Roman\n",
      "Ignoring unknown font: Times New Roman\n",
      "Ignoring unknown font: Times New Roman\n",
      "Ignoring unknown font: Times New Roman\n",
      "Ignoring unknown font: Times New Roman\n",
      "Ignoring unknown font: Times New Roman\n",
      "Ignoring unknown font: Times New Roman\n",
      "Ignoring unknown font: Times New Roman\n",
      "Ignoring unknown font: Times New Roman\n",
      "Ignoring unknown font: Times New Roman\n",
      "Ignoring unknown font: Times New Roman\n",
      "Ignoring unknown font: Times New Roman\n",
      "Ignoring unknown font: Times New Roman\n",
      "Ignoring unknown font: Times New Roman\n",
      "Ignoring unknown font: Times New Roman\n",
      "Ignoring unknown font: Times New Roman\n",
      "Ignoring unknown font: Times New Roman\n",
      "Ignoring unknown font: Times New Roman\n",
      "Ignoring unknown font: Times New Roman\n",
      "Ignoring unknown font: Times New Roman\n",
      "Ignoring unknown font: Times New Roman\n",
      "Ignoring unknown font: Times New Roman\n",
      "Ignoring unknown font: Times New Roman\n",
      "Ignoring unknown font: Times New Roman\n",
      "Ignoring unknown font: Times New Roman\n",
      "Ignoring unknown font: Times New Roman\n",
      "Ignoring unknown font: Times New Roman\n",
      "Ignoring unknown font: Times New Roman\n",
      "Ignoring unknown font: Times New Roman\n",
      "Ignoring unknown font: Times New Roman\n",
      "Ignoring unknown font: Times New Roman\n",
      "Ignoring unknown font: Times New Roman\n",
      "Ignoring unknown font: Times New Roman\n",
      "Ignoring unknown font: Times New Roman\n",
      "Ignoring unknown font: Times New Roman\n",
      "Ignoring unknown font: Times New Roman\n",
      "Ignoring unknown font: Times New Roman\n",
      "Ignoring unknown font: Times New Roman\n",
      "Ignoring unknown font: Times New Roman\n",
      "Ignoring unknown font: Times New Roman\n",
      "Ignoring unknown font: Times New Roman\n",
      "Ignoring unknown font: Times New Roman\n",
      "Ignoring unknown font: Times New Roman\n",
      "Ignoring unknown font: Times New Roman\n",
      "Ignoring unknown font: Times New Roman\n",
      "Ignoring unknown font: Times New Roman\n",
      "Ignoring unknown font: Times New Roman\n",
      "Ignoring unknown font: Times New Roman\n",
      "Ignoring unknown font: Times New Roman\n",
      "Ignoring unknown font: Times New Roman\n",
      "Ignoring unknown font: Times New Roman\n",
      "Ignoring unknown font: Times New Roman\n",
      "Ignoring unknown font: Times New Roman\n",
      "Ignoring unknown font: Times New Roman\n",
      "Ignoring unknown font: Times New Roman\n",
      "Ignoring unknown font: Times New Roman\n",
      "Ignoring unknown font: Times New Roman\n",
      "Ignoring unknown font: Times New Roman\n",
      "Ignoring unknown font: Times New Roman\n",
      "Ignoring unknown font: Times New Roman\n",
      "Ignoring unknown font: Times New Roman\n",
      "Ignoring unknown font: Times New Roman\n",
      "Ignoring unknown font: Times New Roman\n",
      "Ignoring unknown font: Times New Roman\n",
      "Ignoring unknown font: Times New Roman\n",
      "Ignoring unknown font: Times New Roman\n",
      "Ignoring unknown font: Times New Roman\n",
      "Ignoring unknown font: Times New Roman\n",
      "Ignoring unknown font: Times New Roman\n",
      "Ignoring unknown font: Times New Roman\n",
      "Ignoring unknown font: Times New Roman\n",
      "Ignoring unknown font: Times New Roman\n",
      "Ignoring unknown font: Times New Roman\n",
      "Ignoring unknown font: Times New Roman\n",
      "Ignoring unknown font: Times New Roman\n",
      "Ignoring unknown font: Times New Roman\n",
      "Ignoring unknown font: Times New Roman\n",
      "Ignoring unknown font: Times New Roman\n",
      "Ignoring unknown font: Times New Roman\n",
      "Ignoring unknown font: Times New Roman\n",
      "Ignoring unknown font: Times New Roman\n",
      "Ignoring unknown font: Times New Roman\n",
      "Ignoring unknown font: Times New Roman\n",
      "Ignoring unknown font: Times New Roman\n",
      "Ignoring unknown font: Times New Roman\n",
      "Ignoring unknown font: Times New Roman\n",
      "Ignoring unknown font: Times New Roman\n",
      "Ignoring unknown font: Times New Roman\n",
      "Ignoring unknown font: Times New Roman\n",
      "Ignoring unknown font: Times New Roman\n",
      "Ignoring unknown font: Times New Roman\n",
      "Ignoring unknown font: Times New Roman\n",
      "Ignoring unknown font: Times New Roman\n",
      "Ignoring unknown font: Times New Roman\n",
      "Ignoring unknown font: Times New Roman\n",
      "Ignoring unknown font: Times New Roman\n",
      "Ignoring unknown font: Times New Roman\n",
      "Ignoring unknown font: Times New Roman\n",
      "Ignoring unknown font: Times New Roman\n",
      "Ignoring unknown font: Times New Roman\n",
      "Ignoring unknown font: Times New Roman\n",
      "Ignoring unknown font: Times New Roman\n",
      "Ignoring unknown font: Times New Roman\n",
      "Ignoring unknown font: Times New Roman\n",
      "Ignoring unknown font: Times New Roman\n",
      "Ignoring unknown font: Times New Roman\n",
      "Ignoring unknown font: Times New Roman\n",
      "Ignoring unknown font: Times New Roman\n",
      "Ignoring unknown font: Times New Roman\n",
      "Ignoring unknown font: Times New Roman\n",
      "Ignoring unknown font: Times New Roman\n",
      "Ignoring unknown font: Times New Roman\n",
      "Ignoring unknown font: Times New Roman\n",
      "Ignoring unknown font: Times New Roman\n",
      "Ignoring unknown font: Times New Roman\n",
      "Ignoring unknown font: Times New Roman\n",
      "Ignoring unknown font: Times New Roman\n",
      "Ignoring unknown font: Times New Roman\n",
      "Ignoring unknown font: Times New Roman\n",
      "Ignoring unknown font: Times New Roman\n",
      "Ignoring unknown font: Times New Roman\n",
      "Ignoring unknown font: Times New Roman\n",
      "Ignoring unknown font: Times New Roman\n",
      "Ignoring unknown font: Times New Roman\n",
      "Ignoring unknown font: Times New Roman\n",
      "Ignoring unknown font: Times New Roman\n",
      "Ignoring unknown font: Times New Roman\n",
      "Ignoring unknown font: Times New Roman\n",
      "Ignoring unknown font: Times New Roman\n",
      "Ignoring unknown font: Times New Roman\n",
      "Ignoring unknown font: Times New Roman\n",
      "Ignoring unknown font: Times New Roman\n"
     ]
    },
    {
     "data": {
      "image/png": "[encoded data removed]",
      "text/plain": [
       "<Figure size 629.921x264.656 with 2 Axes>"
      ]
     },
     "metadata": {},
     "output_type": "display_data"
    }
   ],
   "source": [
    "# plt.ioff()\n",
    "_, ecb_comparisons_manual, ecb_recall_manual, _ = zip(*ecb_results_manual)\n",
    "_, ecb_comparisons_lemma, ecb_recall_lemma, _ = zip(*ecb_results_lemma)\n",
    "_, ecb_comparisons_bs, ecb_recall_bs, _ = zip(*ecb_results_bs)\n",
    "_, ecb_comparisons_ce, ecb_recall_ce, _ = zip(*ecb_results_ce)\n",
    "\n",
    "_, gvc_comparisons_lemma, gvc_recall_lemma, _ = zip(*gvc_results_lemma)\n",
    "_, gvc_comparisons_bs, gvc_recall_bs, _ = zip(*gvc_results_bs)\n",
    "_, gvc_comparisons_manual, gvc_recall_manual, _ = zip(*gvc_results_manual)\n",
    "_, gvc_comparisons_ce, gvc_recall_ce, _ = zip(*gvc_results_ce)\n",
    "\n",
    "plt.rcParams[\"pgf.texsystem\"] = \"pdflatex\"\n",
    "# plt.rcParams['figure.figsize'] = [12, 5.5]\n",
    "plt.rcParams['text.usetex'] = True\n",
    "plt.rcParams['font.size'] = 9\n",
    "# plt.rcParams[\"font.family\"] = \"Times New Roman\"\n",
    "\n",
    "sps = (1, 2)\n",
    "fig, axes = plt.subplots(1,2, figsize=set_size(width, fraction=1, subplots=(1,2)), constrained_layout=True)\n",
    "# fig.subplots_adjust(wspace=0.2)\n",
    "# ax.plot(comparisons_cdlm_t[3:-7], recalls_cdlm_t[3:-7], '-.o', markersize=3, label='CDLM-T')\n",
    "# ax.plot(comparisons_cdlm_nt[3:-7], recalls_cdlm_nt[3:-7], '-.o', markersize=3, label='CDLM')\n",
    "\n",
    "# courier= {'fontname':'Courier New'}\n",
    "# courier= {'fontname':'Courier'}no_sort\n",
    "# csfont = {'fontname':'Times New Roman'}\n",
    "\n",
    "ylim_min = 0.88\n",
    "ylim_max = 1.005\n",
    "\n",
    "\n",
    "ce_style = '-.o'\n",
    "bs_style = '--o'\n",
    "lem_style = 'g-.'\n",
    "man_style = 'r-'\n",
    "\n",
    "def plot_ecb_ns(ax):\n",
    "#     ax.set_title('/ecb')\n",
    "    pl1 = ax.plot(ns, ecb_recall_ce, ce_style, markersize=1.5, label=r'/cdlm')\n",
    "    pl2 = ax.plot(ns, ecb_recall_bs, bs_style, markersize=1.5, label=r'/bert')\n",
    "    pl3 = ax.plot(ns, ecb_recall_lemma, lem_style, markersize=1.5, label=r'/lemma~1')\n",
    "    pl4 = ax.plot(ns, ecb_recall_manual, man_style, markersize=1.5, label=r'/manual~1')\n",
    "    ax.set_yticks([(80+i)/100 for i in range(21)])\n",
    "    ax.set_yticklabels([str((80+i)) if i%2==0 else None for i in range(21)])\n",
    "    ax.set_ylabel(r'$/mucr$')\n",
    "    ax.set_ylim(ylim_min, ylim_max)\n",
    "    \n",
    "    ax.set_xscale('log')\n",
    "    ax.set_xticks(ns)\n",
    "    xtick_labels = [str(int(i)) for i in ns]\n",
    "    for i, _ in enumerate(ns):\n",
    "        if i % 2 == 1:\n",
    "            xtick_labels[i] = None\n",
    "    \n",
    "    ax.set_xlim(1.5, 19)\n",
    "#     ax.set_xticks\n",
    "#     ax.set_xticklabels(['%.1f'%x_ for x_ in ns])\n",
    "#     ax.set_xticks([i*1000 for i in range(2,19)])\n",
    "#     ax.set_xlim(1500, 18500)\n",
    "#     xtick_labels = [str(i) for i in range(2,19)]\n",
    "    xtick_labels[xtick_labels.index('10')] = None\n",
    "    xtick_labels[xtick_labels.index('12')] = None\n",
    "    xtick_labels[xtick_labels.index('13')] = None\n",
    "    xtick_labels[xtick_labels.index('15')] = None\n",
    "    xtick_labels[xtick_labels.index('16')] = None\n",
    "    xtick_labels[xtick_labels.index('17')] = None\n",
    "    xtick_labels[xtick_labels.index('18')] = None\n",
    "    ax.set_xticklabels(xtick_labels)\n",
    "\n",
    "    ax.set_xlabel(r'$top-/k~(~\\log~)$')\n",
    "    \n",
    "    ax.grid(alpha=0.5)\n",
    "\n",
    "#     ax.legend(loc='upper center', \n",
    "#              bbox_to_anchor=(0.5, -0.2),fancybox=False, shadow=False, ncol=3)\n",
    "#     ax.legend()\n",
    "\n",
    "\n",
    "def plot_ecb_comps(ax):\n",
    "    ax.set_title('/ecb')\n",
    "    ax.plot(ecb_comparisons_ce, ecb_recall_ce, ce_style, markersize=1.5, label=r'/cdlm~1')\n",
    "    ax.plot(ecb_comparisons_bs, ecb_recall_bs, bs_style, markersize=1.5, label=r'/bert~1')\n",
    "    ax.plot(ecb_comparisons_lemma, ecb_recall_lemma, lem_style, markersize=1.5, label=r'/lemma~1')\n",
    "    ax.plot(ecb_comparisons_manual, ecb_recall_manual, man_style, markersize=1.5, label=r'/manual~1')\n",
    "    ax.set_yticks([(80+i)/100 for i in range(21)])\n",
    "    ax.set_yticklabels([str((80+i)) if i%2==0 else None for i in range(21)])\n",
    "    ax.set_ylabel(r'$/mucr$')\n",
    "    ax.set_ylim(ylim_min, ylim_max)\n",
    "    \n",
    "    ax.set_xscale('log')\n",
    "    ax.set_xticks([i*1000 for i in range(2,19)])\n",
    "    ax.set_xlim(2000, 18500)\n",
    "    xtick_labels = [str(i) for i in range(2,19)]\n",
    "    xtick_labels[xtick_labels.index('10')] = None\n",
    "    xtick_labels[xtick_labels.index('12')] = None\n",
    "    xtick_labels[xtick_labels.index('13')] = None\n",
    "    xtick_labels[xtick_labels.index('15')] = None\n",
    "    xtick_labels[xtick_labels.index('16')] = None\n",
    "    xtick_labels[xtick_labels.index('17')] = None\n",
    "#     xtick_labels[xtick_labels.index('10')] = None\n",
    "    ax.set_xticklabels(xtick_labels)\n",
    "    ax.set_xlabel(r'$/comps~\\times~10^3~(~\\log~)$')\n",
    "    \n",
    "    ax.grid(alpha=0.5)\n",
    "    handles, labels = ax.get_legend_handles_labels()\n",
    "    fig.legend(loc='lower center', bbox_to_anchor=(0.535, -0.14), handles=handles, labels=labels, ncol=4, fancybox=True, shadow=False)\n",
    "\n",
    "#     ax.legend()\n",
    "    \n",
    "\n",
    "def plot_gvc(ax):\n",
    "    ax.set_title('/gvc')\n",
    "    ax.plot(gvc_comparisons_ce, gvc_recall_ce, ce_style, markersize=1.5, label=r'/cdlm')\n",
    "    ax.plot(gvc_comparisons_bs, gvc_recall_bs, bs_style, markersize=1.5, label=r'/bert')\n",
    "    ax.plot(gvc_comparisons_lemma, gvc_recall_lemma, lem_style, markersize=1.5, label=r'/lemma~1')\n",
    "    ax.plot(gvc_comparisons_manual, gvc_recall_manual, man_style, markersize=1.5, label=r'/manual~1')\n",
    "    \n",
    "    ax.set_xlabel(r'$/comps~\\times~10^3$')\n",
    "    ax.set_xticks([i for i in range(1000, 3001, 500)])\n",
    "    xtick_labels = [i/1000 for i in range(1000, 3001, 500)]\n",
    "    xtick_labels = [str(int(i)) if (i - int(i) == 0) else str(i) for i in xtick_labels]\n",
    "    ax.set_xticklabels(xtick_labels)\n",
    "    ax.set_xlim(700, 3000)\n",
    "    \n",
    "    ax.set_ylabel(r'/mucr')\n",
    "    ax.set_yticks([(80+i)/100 for i in range(21)])\n",
    "    ax.set_yticklabels([str((80+i)) if i%2==0 else None for i in range(21)])\n",
    "    ax.set_ylim(ylim_min, ylim_max)\n",
    "    ax.grid(alpha=0.5)\n",
    "#     ax.legend()\n",
    "    \n",
    "def plot_gvc_ns(ax):\n",
    "#     ax.set_title('/gvc')\n",
    "    ax.plot(ns_gvc, gvc_recall_ce[:len(ns_gvc)], ce_style, markersize=1.5, label=r'/cdlm')\n",
    "    ax.plot(ns_gvc, gvc_recall_bs, bs_style, markersize=1.5, label=r'/bert')\n",
    "    ax.plot(ns_gvc, gvc_recall_lemma, lem_style, markersize=1.5, label=r'/lemma~1')\n",
    "    ax.plot(ns_gvc, gvc_recall_manual, man_style, markersize=1.5, label=r'/manual~1')\n",
    "    \n",
    "    ax.set_xlabel(r'$top-/k$')\n",
    "#     ax.set_xlim(700, 3000)\n",
    "    ax.set_xticks(ns_gvc)\n",
    "    xtick_labels = [str(int(i)) for i in ns_gvc]\n",
    "    for i, _ in enumerate(ns_gvc):\n",
    "        if i % 2 == 1:\n",
    "            xtick_labels[i] = None\n",
    "    ax.set_xticklabels(xtick_labels)\n",
    "    ax.set_xlim(1, 13)\n",
    "    ax.set_ylabel(r'/mucr')\n",
    "    ax.set_yticks([(80+i)/100 for i in range(21)])\n",
    "    ax.set_yticklabels([str((80+i)) if i%2==0 else None for i in range(21)])\n",
    "    ax.set_ylim(ylim_min, ylim_max)\n",
    "    ax.grid(alpha=0.5)\n",
    "    \n",
    "#     ax.legend()\n",
    "    \n",
    "plot_ecb_comps(axes[0])\n",
    "# plot_ecb_ns(axes[1,0])\n",
    "plot_gvc(axes[1])\n",
    "# plot_gvc_ns(axes[1,1])\n",
    "plt.savefig('results.pgf', bbox_inches='tight', )\n",
    "# plt.grid()\n",
    "# plt.legend(prop={'family':'Courier New'})\n",
    "# plt.subplot_tool()\n",
    "plt.show()"
   ]
  },
  {
   "cell_type": "code",
   "execution_count": null,
   "id": "a10fbf0b",
   "metadata": {},
   "outputs": [],
   "source": []
  }
 ],
 "metadata": {
  "kernelspec": {
   "display_name": "Python 3 (ipykernel)",
   "language": "python",
   "name": "python3"
  },
  "language_info": {
   "codemirror_mode": {
    "name": "ipython",
    "version": 3
   },
   "file_extension": ".py",
   "mimetype": "text/x-python",
   "name": "python",
   "nbconvert_exporter": "python",
   "pygments_lexer": "ipython3",
   "version": "3.9.13"
  }
 },
 "nbformat": 4,
 "nbformat_minor": 5
}
